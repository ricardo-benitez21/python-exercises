{
 "cells": [
  {
   "cell_type": "markdown",
   "id": "9f3d0c38",
   "metadata": {},
   "source": [
    "# 1. Conditional Basics\n",
    "\n",
    "### a. Prompt the user for a day of the week, print out whether the day is Monday or not\n",
    "\n",
    "\n",
    "\n"
   ]
  },
  {
   "cell_type": "code",
   "execution_count": 98,
   "id": "ab25d887",
   "metadata": {},
   "outputs": [
    {
     "name": "stdout",
     "output_type": "stream",
     "text": [
      "Enter a day of the week: Thursday\n",
      "No, it's not Monday.\n"
     ]
    }
   ],
   "source": [
    "user_day = input(\"Enter a day of the week: \")\n",
    "user_day = user_day.lower()\n",
    "if user_day == \"monday\":\n",
    "    print(\"Yes, it'\\s Monday\")\n",
    "else:\n",
    "    print(\"No, it\\'s not Monday.\")"
   ]
  },
  {
   "cell_type": "markdown",
   "id": "31024ba8",
   "metadata": {},
   "source": [
    "### b. Prompt the user for a day of the week, print out whether the day is a weekday or a weekend"
   ]
  },
  {
   "cell_type": "code",
   "execution_count": 96,
   "id": "462ed3aa",
   "metadata": {
    "scrolled": true
   },
   "outputs": [
    {
     "name": "stdout",
     "output_type": "stream",
     "text": [
      "Enter a day of the week: Wednesday\n",
      "It's a weekday.\n"
     ]
    }
   ],
   "source": [
    "user_day = input(\"Enter a day of the week: \")\n",
    "user_day = user_day.lower()\n",
    "if user_day in ['monday', 'tuesday', 'wednesday', 'thursday', 'friday']:\n",
    "    print('It\\'s a weekday.')\n",
    "elif user_day in ['saturday', 'sunday']:\n",
    "    print('It\\'s a weekend day.')"
   ]
  },
  {
   "cell_type": "markdown",
   "id": "b0643279",
   "metadata": {},
   "source": [
    "# c. Calculate a weekly paycheck, accounting for overtime pay. Create variables and make up values for:\n",
    "* The number of hours worked in one week\n",
    "* The hourly rate\n",
    "* For calculating pay:\n",
    "* For working 40 hours or less, each hour is paid at the hourly rate\n",
    "\n",
    "## For working more than 40 hours\n",
    "\n",
    "## the first 40 hours are paid at the hourly rate\n",
    "\n",
    "## each hour after 40 is paid at time and a half (hourly rate * 1.5)"
   ]
  },
  {
   "cell_type": "code",
   "execution_count": 26,
   "id": "ba3f1f6b",
   "metadata": {},
   "outputs": [],
   "source": [
    "hours_worked = 45\n",
    "hourly_rate = 15"
   ]
  },
  {
   "cell_type": "code",
   "execution_count": 27,
   "id": "548f909f",
   "metadata": {},
   "outputs": [],
   "source": [
    "if hours_worked <= 40:\n",
    "    regular_pay = hours_worked * hourly_rate\n",
    "else:\n",
    "    regular_pay = 40 * hourly_rate"
   ]
  },
  {
   "cell_type": "code",
   "execution_count": 28,
   "id": "7d11d590",
   "metadata": {},
   "outputs": [],
   "source": [
    "if hours_worked > 40:\n",
    "    overtime_hours = hours_worked - 40\n",
    "    overtime_pay = overtime_hours * (hourly_rate * 1.5)\n",
    "else:\n",
    "    overtime_pay = 0"
   ]
  },
  {
   "cell_type": "code",
   "execution_count": 29,
   "id": "8d3e54f8",
   "metadata": {},
   "outputs": [],
   "source": [
    "total_paycheck = regular_pay + overtime_pay"
   ]
  },
  {
   "cell_type": "code",
   "execution_count": 30,
   "id": "bab6179c",
   "metadata": {},
   "outputs": [
    {
     "name": "stdout",
     "output_type": "stream",
     "text": [
      "Hours Worked: 45 hours\n"
     ]
    }
   ],
   "source": [
    "print(f\"Hours Worked: {hours_worked} hours\")"
   ]
  },
  {
   "cell_type": "code",
   "execution_count": 31,
   "id": "ea594e49",
   "metadata": {},
   "outputs": [
    {
     "name": "stdout",
     "output_type": "stream",
     "text": [
      "Hourly Rate: $15 per hour\n"
     ]
    }
   ],
   "source": [
    "print(f\"Hourly Rate: ${hourly_rate} per hour\")"
   ]
  },
  {
   "cell_type": "code",
   "execution_count": 32,
   "id": "03f46b00",
   "metadata": {},
   "outputs": [
    {
     "name": "stdout",
     "output_type": "stream",
     "text": [
      "Regular Pay: $600.00\n"
     ]
    }
   ],
   "source": [
    "print(f\"Regular Pay: ${regular_pay:.2f}\")"
   ]
  },
  {
   "cell_type": "code",
   "execution_count": 33,
   "id": "8ef92cef",
   "metadata": {},
   "outputs": [
    {
     "name": "stdout",
     "output_type": "stream",
     "text": [
      "Overtime Pay: $112.50\n"
     ]
    }
   ],
   "source": [
    "print(f\"Overtime Pay: ${overtime_pay:.2f}\")"
   ]
  },
  {
   "cell_type": "code",
   "execution_count": 97,
   "id": "baecab52",
   "metadata": {},
   "outputs": [
    {
     "name": "stdout",
     "output_type": "stream",
     "text": [
      "Total Weekly Paycheck: $712.50\n"
     ]
    }
   ],
   "source": [
    "print(f\"Total Weekly Paycheck: ${total_paycheck:.2f}\")"
   ]
  },
  {
   "cell_type": "markdown",
   "id": "425c6e4a",
   "metadata": {},
   "source": [
    "# 2 Loop Basics\n",
    " \n",
    " ### a. While\n",
    " \n",
    " ###       i. Create an integer variable i with a value of 5. Create a while loop that runs so long as i is less than or equal to 15. Each loop iteration, output the current value of i, then increment i by one.\n"
   ]
  },
  {
   "cell_type": "code",
   "execution_count": 37,
   "id": "834c1738",
   "metadata": {},
   "outputs": [
    {
     "name": "stdout",
     "output_type": "stream",
     "text": [
      "5\n",
      "6\n",
      "7\n",
      "8\n",
      "9\n",
      "10\n",
      "11\n",
      "12\n",
      "13\n",
      "14\n",
      "15\n"
     ]
    }
   ],
   "source": [
    "i = 5\n",
    "while i <= 15:\n",
    "    print(i)\n",
    "    i += 1"
   ]
  },
  {
   "cell_type": "markdown",
   "id": "1799eb06",
   "metadata": {},
   "source": [
    "### i. Create a while loop that will count by 2's starting with 0 and ending at 100. Follow each number with a new line."
   ]
  },
  {
   "cell_type": "code",
   "execution_count": 44,
   "id": "f75f9618",
   "metadata": {},
   "outputs": [
    {
     "name": "stdout",
     "output_type": "stream",
     "text": [
      "0\n",
      "2\n",
      "4\n",
      "6\n",
      "8\n",
      "10\n",
      "12\n",
      "14\n",
      "16\n",
      "18\n",
      "20\n",
      "22\n",
      "24\n",
      "26\n",
      "28\n",
      "30\n",
      "32\n",
      "34\n",
      "36\n",
      "38\n",
      "40\n",
      "42\n",
      "44\n",
      "46\n",
      "48\n",
      "50\n",
      "52\n",
      "54\n",
      "56\n",
      "58\n",
      "60\n",
      "62\n",
      "64\n",
      "66\n",
      "68\n",
      "70\n",
      "72\n",
      "74\n",
      "76\n",
      "78\n",
      "80\n",
      "82\n",
      "84\n",
      "86\n",
      "88\n",
      "90\n",
      "92\n",
      "94\n",
      "96\n",
      "98\n",
      "100\n"
     ]
    }
   ],
   "source": [
    "i = 0\n",
    "while i <= 100:\n",
    "    print(i)\n",
    "    i += 2"
   ]
  },
  {
   "cell_type": "markdown",
   "id": "75dd58cc",
   "metadata": {},
   "source": [
    "### ii. Create a while loop that starts at 2, and displays the number squared on each line while the number is less than 1,000,000."
   ]
  },
  {
   "cell_type": "code",
   "execution_count": 99,
   "id": "75160690",
   "metadata": {},
   "outputs": [
    {
     "name": "stdout",
     "output_type": "stream",
     "text": [
      "2\n",
      "4\n",
      "16\n",
      "256\n",
      "65536\n"
     ]
    }
   ],
   "source": [
    "i = 2\n",
    "while i <= 1_000_000: # Commas can be expressed as underscores\n",
    "    print(i)\n",
    "    i = i*i \n",
    "\n"
   ]
  },
  {
   "cell_type": "markdown",
   "id": "3576a908",
   "metadata": {},
   "source": [
    "### iii. Write a while loop that uses print to create the output shown in the textbook"
   ]
  },
  {
   "cell_type": "code",
   "execution_count": 100,
   "id": "d72d72f4",
   "metadata": {},
   "outputs": [
    {
     "name": "stdout",
     "output_type": "stream",
     "text": [
      "100\n",
      "95\n",
      "90\n",
      "85\n",
      "80\n",
      "75\n",
      "70\n",
      "65\n",
      "60\n",
      "55\n",
      "50\n",
      "45\n",
      "40\n",
      "35\n",
      "30\n",
      "25\n",
      "20\n",
      "15\n",
      "10\n",
      "5\n"
     ]
    }
   ],
   "source": [
    "i = 100\n",
    "while i >= 5:\n",
    "    print(i)\n",
    "    i = i - 5"
   ]
  },
  {
   "cell_type": "markdown",
   "id": "f23a0e72",
   "metadata": {},
   "source": [
    "# b. For Loops"
   ]
  },
  {
   "cell_type": "markdown",
   "id": "882f574f",
   "metadata": {},
   "source": [
    "###    i. Write some code using a for loop that prompts the user for a number, then shows a multiplication table up through 10 for that number."
   ]
  },
  {
   "cell_type": "code",
   "execution_count": 108,
   "id": "09051ed6",
   "metadata": {},
   "outputs": [
    {
     "name": "stdout",
     "output_type": "stream",
     "text": [
      "Enter a number: 44\n",
      "Multiplication table for 44:\n",
      "44 x 1 = 44\n",
      "44 x 2 = 88\n",
      "44 x 3 = 132\n",
      "44 x 4 = 176\n",
      "44 x 5 = 220\n",
      "44 x 6 = 264\n",
      "44 x 7 = 308\n",
      "44 x 8 = 352\n",
      "44 x 9 = 396\n",
      "44 x 10 = 440\n"
     ]
    }
   ],
   "source": [
    "user_input = input(\"Enter a number: \")\n",
    "\n",
    "try:\n",
    "    number = int(user_input)\n",
    "    print(f\"Multiplication table for {number}:\")\n",
    "    for i in range(1, 11):\n",
    "        result = number * i\n",
    "        print(f\"{number} x {i} = {result}\")\n",
    "        # print(user_input, ' x ', i, '=', ,multiply) regular string \n",
    "except ValueError:\n",
    "    print(\"Please enter a valid number.\")"
   ]
  },
  {
   "cell_type": "markdown",
   "id": "4c482733",
   "metadata": {},
   "source": [
    "### iii. Create a for loop that uses print to create the output shown in the textbook"
   ]
  },
  {
   "cell_type": "code",
   "execution_count": 85,
   "id": "83ae579f",
   "metadata": {},
   "outputs": [
    {
     "name": "stdout",
     "output_type": "stream",
     "text": [
      "1\n",
      "22\n",
      "333\n",
      "4444\n",
      "55555\n",
      "666666\n",
      "7777777\n",
      "88888888\n",
      "999999999\n"
     ]
    }
   ],
   "source": [
    "for i in range(1, 10):\n",
    "    print(str(i) * i) # casting for string multiplication"
   ]
  },
  {
   "cell_type": "markdown",
   "id": "91725f76",
   "metadata": {},
   "source": [
    "# c. break and continue"
   ]
  },
  {
   "cell_type": "markdown",
   "id": "7dbee254",
   "metadata": {},
   "source": [
    "###   i. Write a program that prompts the user for a positive integer. Next write a loop that prints out the numbers from the number the user entered down to 1."
   ]
  },
  {
   "cell_type": "code",
   "execution_count": 115,
   "id": "f5db35b5",
   "metadata": {},
   "outputs": [
    {
     "name": "stdout",
     "output_type": "stream",
     "text": [
      "Enter a positive integer: 8\n",
      "8\n",
      "7\n",
      "6\n",
      "5\n",
      "4\n",
      "3\n",
      "2\n",
      "1\n"
     ]
    }
   ],
   "source": [
    "user_input = input(\"Enter a positive integer: \")\n",
    "\n",
    "try:\n",
    "    number = int(user_input)\n",
    "    if number <= 0:\n",
    "        print(\"Please enter a positive integer.\")\n",
    "    else:\n",
    "        while number >= 1:\n",
    "            print(number)\n",
    "            number -= 1\n",
    "except ValueError:\n",
    "    print(\"Please enter a valid positive integer.\")\n",
    "    \n"
   ]
  },
  {
   "cell_type": "markdown",
   "id": "3be3c0d7",
   "metadata": {},
   "source": [
    "### ii . The input function can be used to prompt for input and use that input in your python code. Prompt the user to enter a positive number and write a loop that counts from 0 to that number. (Hints: note that the input function returns a string, so you'll need to convert this to a numeric type.)\n",
    "\n",
    "\n"
   ]
  },
  {
   "cell_type": "code",
   "execution_count": 116,
   "id": "13342440",
   "metadata": {},
   "outputs": [
    {
     "name": "stdout",
     "output_type": "stream",
     "text": [
      "Enter a positive number: 6\n",
      "0\n",
      "1\n",
      "2\n",
      "3\n",
      "4\n",
      "5\n",
      "6\n"
     ]
    }
   ],
   "source": [
    "user_input = input(\"Enter a positive number: \")\n",
    "\n",
    "try:\n",
    "    number = int(user_input)\n",
    "    if number < 0:\n",
    "        print(\"Please enter a positive number.\")\n",
    "    else:\n",
    "        for i in range(number + 1):\n",
    "            print(i)\n",
    "except ValueError:\n",
    "    print(\"Please enter a valid positive number.\")\n",
    "\n",
    "    \n"
   ]
  },
  {
   "cell_type": "markdown",
   "id": "07d21344",
   "metadata": {},
   "source": [
    "### iii. Prompt the user for an odd number between 1 and 50. Use a loop and a break statement to continue prompting the user if they enter invalid input. (Hint: use the isdigit method on strings to determine this). Use a loop and the continue statement to output all the odd numbers between 1 and 50, except for the number the user entered."
   ]
  },
  {
   "cell_type": "code",
   "execution_count": 134,
   "id": "cafcf4a6",
   "metadata": {},
   "outputs": [
    {
     "name": "stdout",
     "output_type": "stream",
     "text": [
      "Enter an odd number between 1 and 50: 3\n",
      "Odd numbers between 1 and 50 (except for 3):\n",
      "Here is an odd number: 1\n",
      "Here is an odd number: 2\n",
      "Yikes! Skipping number: 3\n",
      "Here is an odd number: 4\n",
      "Here is an odd number: 5\n",
      "Here is an odd number: 6\n",
      "Here is an odd number: 7\n",
      "Here is an odd number: 8\n",
      "Here is an odd number: 9\n",
      "Here is an odd number: 10\n",
      "Here is an odd number: 11\n",
      "Here is an odd number: 12\n",
      "Here is an odd number: 13\n",
      "Here is an odd number: 14\n",
      "Here is an odd number: 15\n",
      "Here is an odd number: 16\n",
      "Here is an odd number: 17\n",
      "Here is an odd number: 18\n",
      "Here is an odd number: 19\n",
      "Here is an odd number: 20\n",
      "Here is an odd number: 21\n",
      "Here is an odd number: 22\n",
      "Here is an odd number: 23\n",
      "Here is an odd number: 24\n",
      "Here is an odd number: 25\n",
      "Here is an odd number: 26\n",
      "Here is an odd number: 27\n",
      "Here is an odd number: 28\n",
      "Here is an odd number: 29\n",
      "Here is an odd number: 30\n",
      "Here is an odd number: 31\n",
      "Here is an odd number: 32\n",
      "Here is an odd number: 33\n",
      "Here is an odd number: 34\n",
      "Here is an odd number: 35\n",
      "Here is an odd number: 36\n",
      "Here is an odd number: 37\n",
      "Here is an odd number: 38\n",
      "Here is an odd number: 39\n",
      "Here is an odd number: 40\n",
      "Here is an odd number: 41\n",
      "Here is an odd number: 42\n",
      "Here is an odd number: 43\n",
      "Here is an odd number: 44\n",
      "Here is an odd number: 45\n",
      "Here is an odd number: 46\n",
      "Here is an odd number: 47\n",
      "Here is an odd number: 48\n",
      "Here is an odd number: 49\n",
      "Here is an odd number: 50\n"
     ]
    }
   ],
   "source": [
    "while True:\n",
    "    user_input = input(\"Enter an odd number between 1 and 50: \")\n",
    "    if user_input.isdigit():\n",
    "        number = int(user_input)\n",
    "        if 1 <= number <= 50 and number % 2 == 1:\n",
    "            break\n",
    "    print(\"Please enter a valid odd number between 1 and 50.\")\n",
    "\n",
    "print(f\"Odd numbers between 1 and 50 (except for {number}):\")\n",
    "for i in range(1, 51):\n",
    "    if i == number:\n",
    "        print(f'Yikes! Skipping number: {user_input}')\n",
    "        continue \n",
    "    print(f'Here is an odd number: {i}')\n",
    "        \n",
    "\n"
   ]
  },
  {
   "cell_type": "markdown",
   "id": "d6e8549b",
   "metadata": {},
   "source": [
    "# 3. Fizzbuzz"
   ]
  },
  {
   "cell_type": "markdown",
   "id": "c55e4a1d",
   "metadata": {},
   "source": [
    "### One of the most common interview questions for entry-level programmers is the FizzBuzz test. Developed by Imran Ghory, the test is designed to test basic looping and conditional logic skills.\n",
    "\n",
    "* Write a program that prints the numbers from 1 to 100.\n",
    "* For multiples of three print \"Fizz\" instead of the number\n",
    "* For the multiples of five print \"Buzz\".\n",
    "* For numbers which are multiples of both three and five print \"FizzBuzz\"."
   ]
  },
  {
   "cell_type": "code",
   "execution_count": 137,
   "id": "45372849",
   "metadata": {},
   "outputs": [
    {
     "name": "stdout",
     "output_type": "stream",
     "text": [
      "1\n",
      "2\n",
      "Fizz\n",
      "4\n",
      "Buzz\n",
      "Fizz\n",
      "7\n",
      "8\n",
      "Fizz\n",
      "Buzz\n",
      "11\n",
      "Fizz\n",
      "13\n",
      "14\n",
      "FizzBuzz\n",
      "16\n",
      "17\n",
      "Fizz\n",
      "19\n",
      "Buzz\n",
      "Fizz\n",
      "22\n",
      "23\n",
      "Fizz\n",
      "Buzz\n",
      "26\n",
      "Fizz\n",
      "28\n",
      "29\n",
      "FizzBuzz\n",
      "31\n",
      "32\n",
      "Fizz\n",
      "34\n",
      "Buzz\n",
      "Fizz\n",
      "37\n",
      "38\n",
      "Fizz\n",
      "Buzz\n",
      "41\n",
      "Fizz\n",
      "43\n",
      "44\n",
      "FizzBuzz\n",
      "46\n",
      "47\n",
      "Fizz\n",
      "49\n",
      "Buzz\n",
      "Fizz\n",
      "52\n",
      "53\n",
      "Fizz\n",
      "Buzz\n",
      "56\n",
      "Fizz\n",
      "58\n",
      "59\n",
      "FizzBuzz\n",
      "61\n",
      "62\n",
      "Fizz\n",
      "64\n",
      "Buzz\n",
      "Fizz\n",
      "67\n",
      "68\n",
      "Fizz\n",
      "Buzz\n",
      "71\n",
      "Fizz\n",
      "73\n",
      "74\n",
      "FizzBuzz\n",
      "76\n",
      "77\n",
      "Fizz\n",
      "79\n",
      "Buzz\n",
      "Fizz\n",
      "82\n",
      "83\n",
      "Fizz\n",
      "Buzz\n",
      "86\n",
      "Fizz\n",
      "88\n",
      "89\n",
      "FizzBuzz\n",
      "91\n",
      "92\n",
      "Fizz\n",
      "94\n",
      "Buzz\n",
      "Fizz\n",
      "97\n",
      "98\n",
      "Fizz\n",
      "Buzz\n"
     ]
    }
   ],
   "source": [
    "# ORDER MATTERS\n",
    "\n",
    "for i in range(1, 101):\n",
    "    if i % 15 == 0:\n",
    "        print(\"FizzBuzz\")\n",
    "    elif i % 5 == 0:\n",
    "        print('Buzz')\n",
    "    elif i % 3 == 0:\n",
    "        print('Fizz')\n",
    "    else:\n",
    "        print(i)"
   ]
  },
  {
   "cell_type": "markdown",
   "id": "4869cad9",
   "metadata": {},
   "source": [
    "# 4. Display a table of powers"
   ]
  },
  {
   "cell_type": "markdown",
   "id": "883fa61f",
   "metadata": {},
   "source": [
    "* Prompt the user to enter an integer\n",
    "* Display a table of squares and cubes from 1 to the value entered\n",
    "* Ask if the user wants to continue\n",
    "* Assume that the user will enter valid data\n",
    "* Only continue if the user agrees to"
   ]
  },
  {
   "cell_type": "code",
   "execution_count": 140,
   "id": "f18bf085",
   "metadata": {},
   "outputs": [
    {
     "name": "stdout",
     "output_type": "stream",
     "text": [
      "Enter an integer: 5\n",
      "Number  |  Square  |  Cube\n",
      "------- |  ------- |  -------\n",
      "   1    |     1    |     1   \n",
      "   2    |     4    |     8   \n",
      "   3    |     9    |    27   \n",
      "   4    |    16    |    64   \n",
      "   5    |    25    |    125  \n",
      "Do you want to continue? (yes/no): yes\n",
      "Enter an integer: 8\n",
      "Number  |  Square  |  Cube\n",
      "------- |  ------- |  -------\n",
      "   1    |     1    |     1   \n",
      "   2    |     4    |     8   \n",
      "   3    |     9    |    27   \n",
      "   4    |    16    |    64   \n",
      "   5    |    25    |    125  \n",
      "   6    |    36    |    216  \n",
      "   7    |    49    |    343  \n",
      "   8    |    64    |    512  \n",
      "Do you want to continue? (yes/no): no\n"
     ]
    }
   ],
   "source": [
    "while True:\n",
    "\n",
    "    num = int(input(\"Enter an integer: \"))\n",
    "\n",
    "    \n",
    "    print(\"Number  |  Square  |  Cube\")\n",
    "    print(\"------- |  ------- |  -------\")\n",
    "    for i in range(1, num + 1):\n",
    "        square = i ** 2\n",
    "        cube = i ** 3\n",
    "        print(f\"{i:^7} |  {square:^7} |  {cube:^7}\") # Alternative to get tab formatting use ^\n",
    "\n",
    "    \n",
    "    choice = input(\"Do you want to continue? (yes/no): \").strip().lower()\n",
    "    if choice != 'yes':\n",
    "        break\n"
   ]
  },
  {
   "cell_type": "markdown",
   "id": "71fe09a4",
   "metadata": {},
   "source": [
    "# 5. Convert given number grades into letter grades."
   ]
  },
  {
   "cell_type": "markdown",
   "id": "b113244c",
   "metadata": {},
   "source": [
    "* Prompt the user for a numerical grade from 0 to 100\n",
    "\n",
    "* Display the corresponding letter grade\n",
    "\n",
    "* Prompt the user to continue\n",
    "\n",
    "* Assume that the user will enter valid integers for the grades\n",
    "\n",
    "* The application should only continue if the user agrees to\n",
    "\n",
    "* Grade Ranges:\n",
    "\n",
    "* A : 100 - 88\n",
    "* B : 87 - 80\n",
    "* C : 79 - 67\n",
    "* D : 66 - 60\n",
    "* F : 59 - 0"
   ]
  },
  {
   "cell_type": "code",
   "execution_count": 67,
   "id": "927ef297",
   "metadata": {},
   "outputs": [
    {
     "name": "stdout",
     "output_type": "stream",
     "text": [
      "Enter a numerical grade (0-100): 88\n",
      "Numerical Grade: 88 --> Letter Grade: A\n",
      "Do you want to continue? (yes/no): yes\n",
      "Enter a numerical grade (0-100): 87\n",
      "Numerical Grade: 87 --> Letter Grade: B\n",
      "Do you want to continue? (yes/no): no\n"
     ]
    }
   ],
   "source": [
    "while True:\n",
    "    \n",
    "    numerical_grade = int(input(\"Enter a numerical grade (0-100): \"))\n",
    "\n",
    "    \n",
    "    if 88 <= numerical_grade <= 100:\n",
    "        letter_grade = \"A\"\n",
    "    elif 80 <= numerical_grade <= 87:\n",
    "        letter_grade = \"B\"\n",
    "    elif 67 <= numerical_grade <= 79:\n",
    "        letter_grade = \"C\"\n",
    "    elif 60 <= numerical_grade <= 66:\n",
    "        letter_grade = \"D\"\n",
    "    else:\n",
    "        letter_grade = \"F\"\n",
    "\n",
    "    \n",
    "    print(f\"Numerical Grade: {numerical_grade} --> Letter Grade: {letter_grade}\")\n",
    "\n",
    "    \n",
    "    choice = input(\"Do you want to continue? (yes/no): \").strip().lower()\n",
    "    if choice != 'yes':\n",
    "        break\n"
   ]
  },
  {
   "cell_type": "markdown",
   "id": "e8464086",
   "metadata": {},
   "source": [
    "# 6. Create a list of dictionaries where each dictionary represents a book that you have read. Each dictionary in the list should have the keys title, author, and genre. Loop through the list and print out information about each book."
   ]
  },
  {
   "cell_type": "markdown",
   "id": "991cb3c5",
   "metadata": {},
   "source": [
    "### a. Prompt the user to enter a genre, then loop through your books list and print out the titles of all the books in that genre"
   ]
  },
  {
   "cell_type": "code",
   "execution_count": 89,
   "id": "fec19822",
   "metadata": {
    "scrolled": true
   },
   "outputs": [
    {
     "name": "stdout",
     "output_type": "stream",
     "text": [
      "Title: Ready Player One\n",
      "Author: Ernest Cline\n",
      "Genre: Science Fiction\n",
      "\n",
      "Title: Ginger Pye\n",
      "Author: Eleanor Estes\n",
      "Genre: Childrens Novel\n",
      "\n",
      "Title: Captain Underpants\n",
      "Author: Dave Pilkey\n",
      "Genre: Comedy\n",
      "\n"
     ]
    }
   ],
   "source": [
    "books = [\n",
    "    {\n",
    "        \"title\": \"Ready Player One\",\n",
    "        \"author\": \"Ernest Cline\",\n",
    "        \"genre\": \"Science Fiction\"\n",
    "    },\n",
    "    {\n",
    "        \"title\": \"Ginger Pye\",\n",
    "        \"author\": \"Eleanor Estes\",\n",
    "        \"genre\": \"Childrens Novel\"\n",
    "    },\n",
    "    {\n",
    "        \"title\": \"Captain Underpants\",\n",
    "        \"author\": \"Dave Pilkey\",\n",
    "        \"genre\": \"Comedy\"\n",
    "    }\n",
    "]\n",
    "\n",
    "for book in books:\n",
    "    print(\"Title:\", book[\"title\"])\n",
    "    print(\"Author:\", book[\"author\"])\n",
    "    print(\"Genre:\", book[\"genre\"])\n",
    "    print()"
   ]
  },
  {
   "cell_type": "code",
   "execution_count": 141,
   "id": "805c5f26",
   "metadata": {},
   "outputs": [
    {
     "name": "stdout",
     "output_type": "stream",
     "text": [
      "Enter a genre to see book titles: science fiction\n",
      "Book in the science fiction genre: \n",
      "Ready Player One\n"
     ]
    }
   ],
   "source": [
    "books = [\n",
    "    {\n",
    "        \"title\": \"Ready Player One\",\n",
    "        \"author\": \"Ernest Cline\",\n",
    "        \"genre\": \"Science Fiction\"\n",
    "    },\n",
    "    {\n",
    "        \"title\": \"Ginger Pye\",\n",
    "        \"author\": \"Eleanor Estes\",\n",
    "        \"genre\": \"Childrens Novel\"\n",
    "    },\n",
    "    {\n",
    "        \"title\": \"Captain Underpants\",\n",
    "        \"author\": \"Dave Pilkey\",\n",
    "        \"genre\": \"Comedy\"\n",
    "    }\n",
    "]\n",
    "\n",
    "user_genre = input('Enter a genre to see book titles: ')\n",
    "print(f\"Book in the {user_genre} genre: \")\n",
    "for book in books:\n",
    "    if book[\"genre\"].lower() == user_genre.lower():\n",
    "        print(book[\"title\"])\n"
   ]
  },
  {
   "cell_type": "code",
   "execution_count": null,
   "id": "e414ce5a",
   "metadata": {},
   "outputs": [],
   "source": []
  }
 ],
 "metadata": {
  "kernelspec": {
   "display_name": "Python 3 (ipykernel)",
   "language": "python",
   "name": "python3"
  },
  "language_info": {
   "codemirror_mode": {
    "name": "ipython",
    "version": 3
   },
   "file_extension": ".py",
   "mimetype": "text/x-python",
   "name": "python",
   "nbconvert_exporter": "python",
   "pygments_lexer": "ipython3",
   "version": "3.11.5"
  }
 },
 "nbformat": 4,
 "nbformat_minor": 5
}
