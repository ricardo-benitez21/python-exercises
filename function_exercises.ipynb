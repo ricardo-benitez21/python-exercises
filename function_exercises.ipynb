{
 "cells": [
  {
   "cell_type": "markdown",
   "id": "9bf70e4b",
   "metadata": {},
   "source": [
    "### 1. Define a function named is_two. It should accept one input and return True if the passed input is either the number or the string 2, False otherwise."
   ]
  },
  {
   "cell_type": "code",
   "execution_count": 187,
   "id": "036f0980",
   "metadata": {},
   "outputs": [],
   "source": [
    "def is_two(num):\n",
    "    if num in (2, '2'):\n",
    "        return True\n",
    "    else:\n",
    "        return False"
   ]
  },
  {
   "cell_type": "code",
   "execution_count": 188,
   "id": "1ac5cb37",
   "metadata": {},
   "outputs": [
    {
     "data": {
      "text/plain": [
       "False"
      ]
     },
     "execution_count": 188,
     "metadata": {},
     "output_type": "execute_result"
    }
   ],
   "source": [
    "is_two(5)"
   ]
  },
  {
   "cell_type": "code",
   "execution_count": 190,
   "id": "8dd9c7eb",
   "metadata": {},
   "outputs": [
    {
     "data": {
      "text/plain": [
       "True"
      ]
     },
     "execution_count": 190,
     "metadata": {},
     "output_type": "execute_result"
    }
   ],
   "source": [
    "is_two('2')"
   ]
  },
  {
   "cell_type": "markdown",
   "id": "6bfe4729",
   "metadata": {},
   "source": [
    "### 2. Define a function named is_vowel. It should return True if the passed string is a vowel, False otherwise."
   ]
  },
  {
   "cell_type": "code",
   "execution_count": 191,
   "id": "84fa87ef",
   "metadata": {},
   "outputs": [],
   "source": [
    "def is_vowel(character):\n",
    "# This line defines a function named is_vowel that takes one parameter, character.\n",
    "    vowels = 'a','e','i','o','u','A' ,'E', 'I', 'O', 'U'\n",
    "# This line creates a string vowels that contains all lowercase and uppercase vowel characters.\n",
    "# You can easily extend it to include additional vowels if needed.\n",
    "    return character in vowels\n",
    "# This line checks if the character is present in the vowels string. \n",
    "# The in operator is used to perform this check."
   ]
  },
  {
   "cell_type": "code",
   "execution_count": 192,
   "id": "f63888e6",
   "metadata": {},
   "outputs": [
    {
     "data": {
      "text/plain": [
       "True"
      ]
     },
     "execution_count": 192,
     "metadata": {},
     "output_type": "execute_result"
    }
   ],
   "source": [
    "is_vowel('E')"
   ]
  },
  {
   "cell_type": "code",
   "execution_count": 193,
   "id": "bcdf4e93",
   "metadata": {},
   "outputs": [
    {
     "data": {
      "text/plain": [
       "False"
      ]
     },
     "execution_count": 193,
     "metadata": {},
     "output_type": "execute_result"
    }
   ],
   "source": [
    "is_vowel('F')"
   ]
  },
  {
   "cell_type": "code",
   "execution_count": 195,
   "id": "0a41af13",
   "metadata": {},
   "outputs": [
    {
     "data": {
      "text/plain": [
       "True"
      ]
     },
     "execution_count": 195,
     "metadata": {},
     "output_type": "execute_result"
    }
   ],
   "source": [
    "is_vowel('a')"
   ]
  },
  {
   "cell_type": "code",
   "execution_count": 196,
   "id": "07e017a7",
   "metadata": {},
   "outputs": [
    {
     "data": {
      "text/plain": [
       "False"
      ]
     },
     "execution_count": 196,
     "metadata": {},
     "output_type": "execute_result"
    }
   ],
   "source": [
    "is_vowel('Ricky')"
   ]
  },
  {
   "cell_type": "markdown",
   "id": "e46cafd0",
   "metadata": {},
   "source": [
    "### 3. Define a function named is_consonant. It should return True if the passed string is a consonant, False otherwise. Use your is_vowel function to accomplish this."
   ]
  },
  {
   "cell_type": "code",
   "execution_count": 101,
   "id": "5dab9f10",
   "metadata": {},
   "outputs": [],
   "source": [
    "def is_consonant(character):\n",
    "# This line defines a function named is_consonant that takes one parameter, character.\n",
    "    return not is_vowel(character)\n",
    "# This line calls the is_vowel function to check if character is a vowel.\n",
    "#The not operator is used to negate the result.\n",
    "# If is_vowel(character) is True, meaning the character is a vowel,\n",
    "# not True evaluates to False, indicating that the character is not a consonant.\n",
    "# If is_vowel(character) is False, meaning the character is not a vowel,\n",
    "# not False evaluates to True, indicating that the character is a consonant.\n"
   ]
  },
  {
   "cell_type": "code",
   "execution_count": 105,
   "id": "49493467",
   "metadata": {},
   "outputs": [
    {
     "data": {
      "text/plain": [
       "True"
      ]
     },
     "execution_count": 105,
     "metadata": {},
     "output_type": "execute_result"
    }
   ],
   "source": [
    "is_consonant('f')"
   ]
  },
  {
   "cell_type": "code",
   "execution_count": 106,
   "id": "6aed633a",
   "metadata": {},
   "outputs": [
    {
     "data": {
      "text/plain": [
       "False"
      ]
     },
     "execution_count": 106,
     "metadata": {},
     "output_type": "execute_result"
    }
   ],
   "source": [
    "is_consonant('U')"
   ]
  },
  {
   "cell_type": "code",
   "execution_count": 200,
   "id": "aeeef3b2",
   "metadata": {},
   "outputs": [
    {
     "data": {
      "text/plain": [
       "True"
      ]
     },
     "execution_count": 200,
     "metadata": {},
     "output_type": "execute_result"
    }
   ],
   "source": [
    "is_consonant('q')"
   ]
  },
  {
   "cell_type": "code",
   "execution_count": 197,
   "id": "6f4c2246",
   "metadata": {},
   "outputs": [
    {
     "data": {
      "text/plain": [
       "False"
      ]
     },
     "execution_count": 197,
     "metadata": {},
     "output_type": "execute_result"
    }
   ],
   "source": [
    "is_consonant('I')"
   ]
  },
  {
   "cell_type": "markdown",
   "id": "243d02ec",
   "metadata": {},
   "source": [
    "### 4. Define a function that accepts a string that is a word. The function should capitalize the first letter of the word if the word starts with a consonant."
   ]
  },
  {
   "cell_type": "code",
   "execution_count": 165,
   "id": "f85d7750",
   "metadata": {},
   "outputs": [],
   "source": [
    "def capitalize_if_consonant(word):\n",
    "# This line defines a function named capitalize_if_consonant that takes\n",
    "# one parameter, word, which is expected to be a string representing a word.\n",
    "    if word and word[0].isalpha() and word[0].lower() not in 'a,e,i,o,u':\n",
    "        # This line contains a series of conditions that must be met for the word to be eligible for capitalization:\n",
    "        # Word should not be an empty string.\n",
    "        # The first character of the word, word[0], should be an alphabetic character (a letter).\n",
    "        # The lowercase version of the first character, word[0].lower(), should not be in the string 'aeiou',\n",
    "        # which represents the vowels ('a', 'e', 'i', 'o', 'u').\n",
    "        # In other words, it checks if the first character is not a vowel.\n",
    "        return word[0].upper() + word[1:]\n",
    "        # If all the conditions are met, this line capitalizes the first character using\n",
    "        # word[0].upper() (converts it to uppercase) and then concatenates it with the rest of the word\n",
    "        # (from the second character onward) using word[1:]. This effectively capitalizes the first letter of the word.\n",
    "    else:\n",
    "        return word\n",
    "        # If any of the conditions in step 2 are not met, it means the word cannot be capitalized\n",
    "        # (e.g., it starts with a vowel, it's an empty string, or it contains non-alphabetic characters), and the function returns the original word unchanged.\n",
    "\n"
   ]
  },
  {
   "cell_type": "code",
   "execution_count": 169,
   "id": "10eeabbb",
   "metadata": {},
   "outputs": [
    {
     "data": {
      "text/plain": [
       "'Cat'"
      ]
     },
     "execution_count": 169,
     "metadata": {},
     "output_type": "execute_result"
    }
   ],
   "source": [
    "capitalize_if_consonant('cat')"
   ]
  },
  {
   "cell_type": "code",
   "execution_count": 126,
   "id": "110f596f",
   "metadata": {},
   "outputs": [
    {
     "data": {
      "text/plain": [
       "'Banana'"
      ]
     },
     "execution_count": 126,
     "metadata": {},
     "output_type": "execute_result"
    }
   ],
   "source": [
    "capitalize_if_consonant('banana')"
   ]
  },
  {
   "cell_type": "code",
   "execution_count": 127,
   "id": "cccdb24b",
   "metadata": {},
   "outputs": [
    {
     "data": {
      "text/plain": [
       "'elephant'"
      ]
     },
     "execution_count": 127,
     "metadata": {},
     "output_type": "execute_result"
    }
   ],
   "source": [
    "capitalize_if_consonant('elephant')"
   ]
  },
  {
   "cell_type": "markdown",
   "id": "a52afdee",
   "metadata": {},
   "source": [
    "### 5. Define a function named calculate_tip. It should accept a tip percentage (a number between 0 and 1) and the bill total, and return the amount to tip."
   ]
  },
  {
   "cell_type": "code",
   "execution_count": 201,
   "id": "a4530652",
   "metadata": {},
   "outputs": [],
   "source": [
    "def calculate_tip(tip_percentage, bill_total):\n",
    "    if 0 <= tip_percentage <= 1:\n",
    "        tip_amount = tip_percentage * bill_total\n",
    "        return tip_amount\n",
    "    else:\n",
    "        return 'Not a valid tip amount. Please provide a number between 0 and 1'"
   ]
  },
  {
   "cell_type": "code",
   "execution_count": 202,
   "id": "dfebcce0",
   "metadata": {},
   "outputs": [
    {
     "data": {
      "text/plain": [
       "6.75"
      ]
     },
     "execution_count": 202,
     "metadata": {},
     "output_type": "execute_result"
    }
   ],
   "source": [
    "calculate_tip(.15, 45)"
   ]
  },
  {
   "cell_type": "code",
   "execution_count": 203,
   "id": "8d472db9",
   "metadata": {},
   "outputs": [
    {
     "data": {
      "text/plain": [
       "'Not a valid tip amount. Please provide a number between 0 and 1'"
      ]
     },
     "execution_count": 203,
     "metadata": {},
     "output_type": "execute_result"
    }
   ],
   "source": [
    "calculate_tip(2, 78)"
   ]
  },
  {
   "cell_type": "code",
   "execution_count": 133,
   "id": "d787a84d",
   "metadata": {},
   "outputs": [
    {
     "data": {
      "text/plain": [
       "9.5"
      ]
     },
     "execution_count": 133,
     "metadata": {},
     "output_type": "execute_result"
    }
   ],
   "source": [
    "calculate_tip(.10, 95)"
   ]
  },
  {
   "cell_type": "markdown",
   "id": "5e78efdd",
   "metadata": {},
   "source": [
    "### 6. Define a function named apply_discount. It should accept a original price, and a discount percentage, and return the price after the discount is applied."
   ]
  },
  {
   "cell_type": "code",
   "execution_count": 204,
   "id": "94a5b368",
   "metadata": {},
   "outputs": [],
   "source": [
    "def apply_discount(original_price, discount_percentage):\n",
    "    if 0 <= discount_percentage <= 100:\n",
    "        discount = original_price * (discount_percentage / 100)\n",
    "        discounted_price = original_price - discount\n",
    "        return discounted_price\n",
    "    else:\n",
    "        return \"Invalid discount percentage. Please provide a value between 0 and 100.\"\n"
   ]
  },
  {
   "cell_type": "code",
   "execution_count": 208,
   "id": "6687dbb4",
   "metadata": {},
   "outputs": [
    {
     "data": {
      "text/plain": [
       "90.0"
      ]
     },
     "execution_count": 208,
     "metadata": {},
     "output_type": "execute_result"
    }
   ],
   "source": [
    "apply_discount(100.0, 10)"
   ]
  },
  {
   "cell_type": "code",
   "execution_count": 209,
   "id": "c56c0c74",
   "metadata": {},
   "outputs": [
    {
     "data": {
      "text/plain": [
       "'Invalid discount percentage. Please provide a value between 0 and 100.'"
      ]
     },
     "execution_count": 209,
     "metadata": {},
     "output_type": "execute_result"
    }
   ],
   "source": [
    "apply_discount(50.0, 150)"
   ]
  },
  {
   "cell_type": "markdown",
   "id": "8e26dbc9",
   "metadata": {},
   "source": [
    "### 7. Define a function named handle_commas. It should accept a string that is a number that contains commas in it as input, and return a number as output."
   ]
  },
  {
   "cell_type": "code",
   "execution_count": 161,
   "id": "ebdf278c",
   "metadata": {},
   "outputs": [],
   "source": [
    "def handle_commas(number_with_commas):\n",
    "    # This line defines a function named handle_commas that takes one parameter, number_with_commas,\n",
    "    # which is expected to be a string containing a number with commas.\n",
    "    if ',' in number_with_commas:\n",
    "    # This line checks if the input string number_with_commas contains a comma (',').\n",
    "    # If it does, it proceeds to the next step. If there are no commas, it moves to the else block.\n",
    "        return float(number_with_commas.replace(',', ''))\n",
    "        # If a comma is found in the input string, this code removes all commas by using\n",
    "        # the replace method to replace every comma with an empty string (''). \n",
    "        # Then, it converts the modified string (with commas removed) to a floating-point number using float() and returns it.\n",
    "    else:\n",
    "        return float(number_with_commas)\n",
    "    # If there are no commas in the input string, this code directly converts the string to a\n",
    "    # floating-point number using float() and returns it.\n"
   ]
  },
  {
   "cell_type": "code",
   "execution_count": 162,
   "id": "9facf73f",
   "metadata": {},
   "outputs": [
    {
     "data": {
      "text/plain": [
       "5000.0"
      ]
     },
     "execution_count": 162,
     "metadata": {},
     "output_type": "execute_result"
    }
   ],
   "source": [
    "handle_commas('5,000')"
   ]
  },
  {
   "cell_type": "code",
   "execution_count": 158,
   "id": "d99f8991",
   "metadata": {},
   "outputs": [
    {
     "data": {
      "text/plain": [
       "1000000.0"
      ]
     },
     "execution_count": 158,
     "metadata": {},
     "output_type": "execute_result"
    }
   ],
   "source": [
    "handle_commas('1,000,000')"
   ]
  },
  {
   "cell_type": "code",
   "execution_count": 160,
   "id": "8571fb39",
   "metadata": {},
   "outputs": [
    {
     "data": {
      "text/plain": [
       "456.0"
      ]
     },
     "execution_count": 160,
     "metadata": {},
     "output_type": "execute_result"
    }
   ],
   "source": [
    "handle_commas('456')"
   ]
  },
  {
   "cell_type": "markdown",
   "id": "3e31f66f",
   "metadata": {},
   "source": [
    "### 8. Define a function named get_letter_grade. It should accept a number and return the letter grade associated with that number (A-F)."
   ]
  },
  {
   "cell_type": "code",
   "execution_count": 172,
   "id": "8c61b41d",
   "metadata": {},
   "outputs": [],
   "source": [
    "def get_letter_grade(score):\n",
    "# This line defines a function named get_letter_grade that takes one parameter, score,\n",
    "# which is the numeric score for which you want to determine the letter grade.\n",
    "    if 90 <= score <= 100:\n",
    "        return 'A'\n",
    "    elif 80 <= score < 90:\n",
    "        return 'B'\n",
    "    elif 70 <= score < 80:\n",
    "        return 'C'\n",
    "    elif 60 <= score < 70:\n",
    "        return 'D'\n",
    "    elif 0 <= score < 60:\n",
    "        return 'F'\n",
    "# This line defines a function named get_letter_grade that takes one parameter, score, \n",
    "# which is the numeric score for which you want to determine the letter grade.\n",
    "    else:\n",
    "        return 'Invalid input, score out of range'\n",
    "# If the score is outside the valid range (less than 0 or greater than 100),\n",
    "# the function returns 'Invalid input, score out of range' to indicate\n",
    "# that the input score is not within a valid range.\n"
   ]
  },
  {
   "cell_type": "code",
   "execution_count": 173,
   "id": "f2b3b663",
   "metadata": {},
   "outputs": [
    {
     "data": {
      "text/plain": [
       "'C'"
      ]
     },
     "execution_count": 173,
     "metadata": {},
     "output_type": "execute_result"
    }
   ],
   "source": [
    "get_letter_grade(76)"
   ]
  },
  {
   "cell_type": "code",
   "execution_count": 174,
   "id": "949ec83f",
   "metadata": {},
   "outputs": [
    {
     "data": {
      "text/plain": [
       "'D'"
      ]
     },
     "execution_count": 174,
     "metadata": {},
     "output_type": "execute_result"
    }
   ],
   "source": [
    "get_letter_grade(64)"
   ]
  },
  {
   "cell_type": "code",
   "execution_count": 175,
   "id": "23a19b96",
   "metadata": {},
   "outputs": [
    {
     "data": {
      "text/plain": [
       "'A'"
      ]
     },
     "execution_count": 175,
     "metadata": {},
     "output_type": "execute_result"
    }
   ],
   "source": [
    "get_letter_grade(94)"
   ]
  },
  {
   "cell_type": "markdown",
   "id": "94282d75",
   "metadata": {},
   "source": [
    "### 9. Define a function named remove_vowels that accepts a string and returns a string with all the vowels removed."
   ]
  },
  {
   "cell_type": "code",
   "execution_count": 216,
   "id": "8b4a1419",
   "metadata": {},
   "outputs": [],
   "source": [
    "def remove_vowels(word):\n",
    "# This line defines a function named remove_vowels that takes one parameter, word,\n",
    "# which is the string from which you want to remove vowels.\n",
    "    vowels = 'A, E, I, O, U, a, e, i, o, u'\n",
    "# This line defines a string vowels containing all the uppercase and lowercase vowels\n",
    "# (A, E, I, O, U, a, e, i, o, u).\n",
    "    result = ''.join(char for char in word if char not in vowels)\n",
    "# This line uses a list comprehension to iterate through each character (char) in the input_string. \n",
    "# It checks if each character is not in the vowels string. If a character is not a vowel,\n",
    "# it is included in the result string.\n",
    "    return result\n",
    "# The function returns the result string, which is the input_string with all the vowels removed."
   ]
  },
  {
   "cell_type": "code",
   "execution_count": 217,
   "id": "6635cd31",
   "metadata": {},
   "outputs": [
    {
     "data": {
      "text/plain": [
       "'Dlls'"
      ]
     },
     "execution_count": 217,
     "metadata": {},
     "output_type": "execute_result"
    }
   ],
   "source": [
    "remove_vowels('Dallas')"
   ]
  },
  {
   "cell_type": "code",
   "execution_count": 214,
   "id": "f7dc125e",
   "metadata": {},
   "outputs": [
    {
     "data": {
      "text/plain": [
       "'Bnns'"
      ]
     },
     "execution_count": 214,
     "metadata": {},
     "output_type": "execute_result"
    }
   ],
   "source": [
    "remove_vowels('Bananas')"
   ]
  },
  {
   "cell_type": "code",
   "execution_count": 215,
   "id": "bc36b0a5",
   "metadata": {},
   "outputs": [
    {
     "data": {
      "text/plain": [
       "'Txs'"
      ]
     },
     "execution_count": 215,
     "metadata": {},
     "output_type": "execute_result"
    }
   ],
   "source": [
    "remove_vowels('Texas')"
   ]
  },
  {
   "cell_type": "markdown",
   "id": "4edcce63",
   "metadata": {},
   "source": [
    "### 10. Define a function named normalize_name. It should accept a string and return a valid python identifier, that is:\n",
    "* anything that is not a valid python identifier should be removed\n",
    "* leading and trailing whitespace should be removed\n",
    "* everything should be lowercase\n",
    "* spaces should be replaced with underscores\n"
   ]
  },
  {
   "cell_type": "code",
   "execution_count": 218,
   "id": "6cc0766f",
   "metadata": {},
   "outputs": [],
   "source": [
    "def normalize_name(somestr):\n",
    "    new_string = ''\n",
    "    somestr = somestr.strip().lower()\n",
    "    for char in somestr:\n",
    "        if char.isalpha() or char == ' ':\n",
    "            new_string += char\n",
    "    return new_string.strip().replace(' ', '_')"
   ]
  },
  {
   "cell_type": "code",
   "execution_count": 220,
   "id": "a246f96d",
   "metadata": {},
   "outputs": [
    {
     "data": {
      "text/plain": [
       "'ri__c_ky'"
      ]
     },
     "execution_count": 220,
     "metadata": {},
     "output_type": "execute_result"
    }
   ],
   "source": [
    "normalize_name('  Ri  c ky')"
   ]
  },
  {
   "cell_type": "code",
   "execution_count": 221,
   "id": "5ae915f6",
   "metadata": {},
   "outputs": [
    {
     "data": {
      "text/plain": [
       "'he__llo_wor__ld'"
      ]
     },
     "execution_count": 221,
     "metadata": {},
     "output_type": "execute_result"
    }
   ],
   "source": [
    "normalize_name('  He  llo wOr  ld  ')"
   ]
  },
  {
   "cell_type": "markdown",
   "id": "3f0e57d5",
   "metadata": {},
   "source": [
    "### 11. Write a function named cumulative_sum that accepts a list of numbers and returns a list that is the cumulative sum of the numbers in the list."
   ]
  },
  {
   "cell_type": "code",
   "execution_count": 237,
   "id": "22d8efe5",
   "metadata": {},
   "outputs": [],
   "source": [
    "def cumulative_sum(oldlist):\n",
    "    newlist=[]\n",
    "    c_sum = 0\n",
    "    for num in oldlist:\n",
    "        c_sum += num\n",
    "        print(f'cumulative: {c_sum}')\n",
    "        newlist.append(c_sum)\n",
    "    print(f'oldlistt: {oldlist}')\n",
    "    print(f'newlist: {newlist}')\n",
    "    "
   ]
  },
  {
   "cell_type": "code",
   "execution_count": 238,
   "id": "c53fabb4",
   "metadata": {},
   "outputs": [
    {
     "name": "stdout",
     "output_type": "stream",
     "text": [
      "cumulative: 3\n",
      "cumulative: 7\n",
      "cumulative: 13\n",
      "oldlistt: [3, 4, 6]\n",
      "newlist: [3, 7, 13]\n"
     ]
    }
   ],
   "source": [
    "cumulative_sum([3,4,6])"
   ]
  },
  {
   "cell_type": "code",
   "execution_count": null,
   "id": "eb2aaebf",
   "metadata": {},
   "outputs": [],
   "source": []
  }
 ],
 "metadata": {
  "kernelspec": {
   "display_name": "Python 3 (ipykernel)",
   "language": "python",
   "name": "python3"
  },
  "language_info": {
   "codemirror_mode": {
    "name": "ipython",
    "version": 3
   },
   "file_extension": ".py",
   "mimetype": "text/x-python",
   "name": "python",
   "nbconvert_exporter": "python",
   "pygments_lexer": "ipython3",
   "version": "3.11.5"
  }
 },
 "nbformat": 4,
 "nbformat_minor": 5
}
