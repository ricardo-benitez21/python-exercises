{
 "cells": [
  {
   "cell_type": "code",
   "execution_count": 1,
   "id": "92d4537d",
   "metadata": {},
   "outputs": [
    {
     "name": "stdout",
     "output_type": "stream",
     "text": [
      "Shift + Enter run the current cell, select below\n"
     ]
    }
   ],
   "source": [
    "print('Shift + Enter run the current cell, select below')"
   ]
  },
  {
   "cell_type": "code",
   "execution_count": 2,
   "id": "aca5916f",
   "metadata": {},
   "outputs": [
    {
     "name": "stdout",
     "output_type": "stream",
     "text": [
      "Ctrl + Enter run selected cells\n"
     ]
    }
   ],
   "source": [
    "print('Ctrl + Enter run selected cells')"
   ]
  },
  {
   "cell_type": "code",
   "execution_count": 3,
   "id": "c848c6a6",
   "metadata": {},
   "outputs": [
    {
     "name": "stdout",
     "output_type": "stream",
     "text": [
      "Ctrl + S save and checkpoint\n"
     ]
    }
   ],
   "source": [
    "print('Ctrl + S save and checkpoint')"
   ]
  },
  {
   "cell_type": "code",
   "execution_count": 4,
   "id": "db465f0e",
   "metadata": {},
   "outputs": [
    {
     "name": "stdout",
     "output_type": "stream",
     "text": [
      "My name is Jonas\n"
     ]
    }
   ],
   "source": [
    "print('My name is Jonas')"
   ]
  },
  {
   "cell_type": "code",
   "execution_count": 5,
   "id": "722c0400",
   "metadata": {},
   "outputs": [],
   "source": [
    "x = 2"
   ]
  },
  {
   "cell_type": "code",
   "execution_count": 6,
   "id": "ab67a02e",
   "metadata": {},
   "outputs": [
    {
     "data": {
      "text/plain": [
       "4"
      ]
     },
     "execution_count": 6,
     "metadata": {},
     "output_type": "execute_result"
    }
   ],
   "source": [
    "x + 2"
   ]
  },
  {
   "cell_type": "code",
   "execution_count": 10,
   "id": "1e9be48e",
   "metadata": {},
   "outputs": [],
   "source": [
    "Greeting = 'My name is Jonas'"
   ]
  }
 ],
 "metadata": {
  "kernelspec": {
   "display_name": "Python 3 (ipykernel)",
   "language": "python",
   "name": "python3"
  },
  "language_info": {
   "codemirror_mode": {
    "name": "ipython",
    "version": 3
   },
   "file_extension": ".py",
   "mimetype": "text/x-python",
   "name": "python",
   "nbconvert_exporter": "python",
   "pygments_lexer": "ipython3",
   "version": "3.11.5"
  }
 },
 "nbformat": 4,
 "nbformat_minor": 5
}
